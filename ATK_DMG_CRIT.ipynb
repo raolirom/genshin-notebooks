{
 "cells": [
  {
   "attachments": {},
   "cell_type": "markdown",
   "metadata": {},
   "source": [
    "Damage formula:\n",
    "\n",
    "$$  \\large \\begin{align*}\n",
    "        \\mathrm{DMG_{out}} = \\left[ \\mathrm{ATK_{base}} \\times \\left( 1 + \\mathrm{ATK_{bonus}^{_{\\%}}} \\right) + \\mathrm{ATK_{flat}} \\right]\n",
    "                             \\times \\left( 1 + \\mathrm{DMG_{bonus}^{_{\\%}}} \\right) \\times \\left( 1 + \\mathrm{Rate_{crit}^{_{\\%}}} \\times \\mathrm{DMG_{crit}^{_{\\%}}} \\right) \\\\\n",
    "    \\end{align*} $$\n",
    "\n",
    "- A main stat (or 10 sub-stats) is worth either:\n",
    "    - 43.20% of $\\mathrm{ATK_{bonus}^{_{\\%}}}$\n",
    "    - 38.88% of $\\mathrm{DMG_{bonus}^{_{\\%}}}$\n",
    "    - 32.40% of $\\mathrm{Rate_{crit}^{_{\\%}}}$\n",
    "    - 64.80% of $\\mathrm{DMG_{crit}^{_{\\%}}}$\n",
    "\n",
    "$$  \\large \\begin{align*}\n",
    "        \\mathrm{Score} = \\frac{\\mathrm{ATK_{bonus}^{_{\\%}}}}{43.20\\%} + \\frac{\\mathrm{DMG_{bonus}^{_{\\%}}}}{38.88\\%} + \\frac{\\mathrm{Rate_{crit}^{_{\\%}}}}{32.40\\%} + \\frac{\\mathrm{DMG_{crit}^{_{\\%}}}}{64.80\\%}\n",
    "    \\end{align*}$$\n",
    "\n",
    "Lagrange multiplier:\n",
    "\n",
    "$$ \\Large  \\begin{cases}\n",
    "        \\frac{\\partial \\mathrm{DMG_{out}}}{\\partial \\mathrm{ATK_{bonus}^{_{\\%}}}} = \\lambda \\frac{\\partial \\mathrm{Score}}{\\partial \\mathrm{ATK_{bonus}^{_{\\%}}}} \\\\ \\\\\n",
    "        \\frac{\\partial \\mathrm{DMG_{out}}}{\\partial \\mathrm{DMG_{bonus}^{_{\\%}}}} = \\lambda \\frac{\\partial \\mathrm{Score}}{\\partial \\mathrm{DMG_{bonus}^{_{\\%}}}} \\\\ \\\\\n",
    "        \\frac{\\partial \\mathrm{DMG_{out}}}{\\partial \\mathrm{Rate_{crit}^{_{\\%}}}} = \\lambda \\frac{\\partial \\mathrm{Score}}{\\partial \\mathrm{Rate_{crit}^{_{\\%}}}} \\\\ \\\\\n",
    "        \\frac{\\partial \\mathrm{DMG_{out}}}{\\partial \\mathrm{DMG_{crit}^{_{\\%}}}} = \\lambda \\frac{\\partial \\mathrm{Score}}{\\partial \\mathrm{DMG_{crit}^{_{\\%}}}}\n",
    "    \\end{cases}\n",
    "    \\implies\n",
    "    \\begin{cases}\n",
    "        \\mathrm{ATK_{base}} \\times \\left( 1 + \\mathrm{DMG_{bonus}^{_{\\%}}} \\right) \\times \\left( 1 + \\mathrm{Rate_{crit}^{_{\\%}}} \\times \\mathrm{DMG_{crit}^{_{\\%}}} \\right) = \\frac{\\lambda}{43.20\\%} && (1) \\\\ \\\\\n",
    "        \\left[ \\mathrm{ATK_{base}} \\times \\left( 1 + \\mathrm{ATK_{bonus}^{_{\\%}}} \\right) + \\mathrm{ATK_{flat}} \\right] \\times \\left( 1 + \\mathrm{Rate_{crit}^{_{\\%}}} \\times \\mathrm{DMG_{crit}^{_{\\%}}} \\right) = \\frac{\\lambda}{38.88\\%} && (2) \\\\ \\\\\n",
    "        \\left[ \\mathrm{ATK_{base}} \\times \\left( 1 + \\mathrm{ATK_{bonus}^{_{\\%}}} \\right) + \\mathrm{ATK_{flat}} \\right] \\times \\left( 1 + \\mathrm{DMG_{bonus}^{_{\\%}}} \\right) \\times \\mathrm{DMG_{crit}^{_{\\%}}} = \\frac{\\lambda}{32.40\\%} && (3) \\\\ \\\\\n",
    "        \\left[ \\mathrm{ATK_{base}} \\times \\left( 1 + \\mathrm{ATK_{bonus}^{_{\\%}}} \\right) + \\mathrm{ATK_{flat}} \\right] \\times \\left( 1 + \\mathrm{DMG_{bonus}^{_{\\%}}} \\right) \\times \\mathrm{Rate_{crit}^{_{\\%}}} = \\frac{\\lambda}{64.80\\%} && (4)\n",
    "    \\end{cases} $$\n",
    "\n",
    "(3) divided by (4):\n",
    "\n",
    "$$  \\large \\begin{align*}\n",
    "        \\frac{\\mathrm{DMG_{crit}^{_{\\%}}}}{\\mathrm{Rate_{crit}^{_{\\%}}}} = \\frac{64.80\\%}{32.40\\%} = 2 \\quad\\implies\\quad \\mathrm{DMG_{crit}^{_{\\%}}} = 2 \\times \\mathrm{Rate_{crit}^{_{\\%}}}\n",
    "    \\end{align*}$$\n",
    "\n",
    "(4) divided by (2):\n",
    "\n",
    "$$  \\large \\begin{align*}\n",
    "        \\left( 1 + \\mathrm{DMG_{bonus}^{_{\\%}}} \\right) \\times \\frac{\\mathrm{Rate_{crit}^{_{\\%}}}}{1 + \\mathrm{Rate_{crit}^{_{\\%}}} \\times \\mathrm{DMG_{crit}^{_{\\%}}}} = \\frac{38.88\\%}{64.80\\%} = \\frac{3}{5} \\quad\\implies\\quad\n",
    "        \\left( 1 + \\mathrm{DMG_{bonus}^{_{\\%}}} \\right) = \\frac{3}{5} \\times \\left( \\frac{1}{\\mathrm{Rate_{crit}^{_{\\%}}}} + \\mathrm{DMG_{crit}^{_{\\%}}} \\right)\n",
    "    \\end{align*}$$\n",
    "\n",
    "(2) divided by (1):\n",
    "\n",
    "$$  \\large \\begin{align*}\n",
    "        \\frac{\\mathrm{ATK_{base}} \\times \\left( 1 + \\mathrm{ATK_{bonus}^{_{\\%}}} \\right) + \\mathrm{ATK_{flat}}}{\\mathrm{ATK_{base}} \\times \\left( 1 + \\mathrm{DMG_{bonus}^{_{\\%}}} \\right)} = \\frac{43.20\\%}{38.88\\%} = \\frac{10}{9} \\quad\\implies\\quad\n",
    "        \\left( 1 + \\mathrm{ATK_{bonus}^{_{\\%}}} \\right) + \\frac{\\mathrm{ATK_{flat}}}{\\mathrm{ATK_{base}}} = \\frac{10}{9} \\times \\left( 1 + \\mathrm{DMG_{bonus}^{_{\\%}}} \\right)\n",
    "    \\end{align*}$$\n",
    "\n",
    "Therefore we also have:\n",
    "\n",
    "$$  \\large \\begin{align*}\n",
    "        \\left( 1 + \\mathrm{ATK_{bonus}^{_{\\%}}} \\right) + \\frac{\\mathrm{ATK_{flat}}}{\\mathrm{ATK_{base}}} = \\frac{2}{3} \\times \\left( \\frac{1}{\\mathrm{Rate_{crit}^{_{\\%}}}} + \\mathrm{DMG_{crit}^{_{\\%}}} \\right)\n",
    "    \\end{align*}$$"
   ]
  }
 ],
 "metadata": {
  "interpreter": {
   "hash": "7c332b606d6ee8c3ce0b10849bfe68a9d6f214da4fbdf2ce21a10b9e8bd70a80"
  },
  "kernelspec": {
   "display_name": "Python 3.9.6 64-bit ('gnb-env': conda)",
   "language": "python",
   "name": "python3"
  },
  "language_info": {
   "codemirror_mode": {
    "name": "ipython",
    "version": 3
   },
   "file_extension": ".py",
   "mimetype": "text/x-python",
   "name": "python",
   "nbconvert_exporter": "python",
   "pygments_lexer": "ipython3",
   "version": "3.9.6"
  },
  "orig_nbformat": 4
 },
 "nbformat": 4,
 "nbformat_minor": 2
}
